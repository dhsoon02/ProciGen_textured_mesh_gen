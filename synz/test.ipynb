{
 "cells": [
  {
   "cell_type": "code",
   "execution_count": 4,
   "metadata": {},
   "outputs": [
    {
     "name": "stdout",
     "output_type": "stream",
     "text": [
      "\u001b[1;33m[Open3D WARNING] geometry::TriangleMesh appears to be a geometry::PointCloud (only contains vertices, but no triangles).\u001b[0;m\n",
      "✅ Loaded mesh: type=<class 'numpy.ndarray'>, shape=(8000, 3)\n"
     ]
    }
   ],
   "source": [
    "import open3d as o3d\n",
    "import numpy as np\n",
    "import sys\n",
    "sys.path.append('/root/dev/ProciGen')\n",
    "\n",
    "from lib_mesh.mesh import Mesh\n",
    "\n",
    "# Open3D로 PLY 읽기\n",
    "o3d_mesh = o3d.io.read_triangle_mesh(\"/root/dev/ProciGen/example/assets/corr-behave-objs/stool_corr.ply\")\n",
    "verts = np.asarray(o3d_mesh.vertices)\n",
    "faces = np.asarray(o3d_mesh.triangles)\n",
    "\n",
    "# Mesh 클래스에 넘기기\n",
    "mesh = Mesh(verts, faces)\n",
    "print(f\"✅ Loaded mesh: type={type(mesh.v)}, shape={mesh.v.shape}\")\n"
   ]
  },
  {
   "cell_type": "code",
   "execution_count": 5,
   "metadata": {},
   "outputs": [
    {
     "name": "stdout",
     "output_type": "stream",
     "text": [
      "📦 Keys in the pickle file:\n",
      "  - can2frame (<class 'numpy.ndarray'>)\n",
      "  - pose (<class 'numpy.ndarray'>)\n",
      "  - betas (<class 'numpy.ndarray'>)\n",
      "  - trans (<class 'numpy.ndarray'>)\n",
      "  - gender (<class 'str'>)\n",
      "  - sample_frame (<class 'str'>)\n",
      "  - beta_index (<class 'int'>)\n",
      "  - pose_old (<class 'numpy.ndarray'>)\n",
      "  - betas_old (<class 'numpy.ndarray'>)\n",
      "  - trans_old (<class 'numpy.ndarray'>)\n",
      "  - obj_rot (<class 'numpy.ndarray'>)\n",
      "  - obj_trans (<class 'numpy.ndarray'>)\n",
      "  - index (<class 'int'>)\n",
      "  - synset_id (<class 'str'>)\n",
      "  - ins_name (<class 'str'>)\n",
      "  - scale (<class 'float'>)\n",
      "  - shift (<class 'numpy.ndarray'>)\n",
      "\n",
      "🔍 Summary of values:\n",
      "can2frame: shape (4, 4)\n",
      "pose: shape (156,)\n",
      "betas: shape (10,)\n",
      "trans: shape (3,)\n",
      "gender: female\n",
      "sample_frame: Date01_Sub01_stool_move/t0036.800\n",
      "beta_index: 84\n",
      "pose_old: shape (156,)\n",
      "betas_old: shape (10,)\n",
      "trans_old: shape (3,)\n",
      "obj_rot: shape (3, 3)\n",
      "obj_trans: shape (3,)\n",
      "index: 0\n",
      "synset_id: stool\n",
      "ins_name: d673aaf2157149acbc55b624df95d693\n",
      "scale: 1.0\n",
      "shift: shape (3,)\n"
     ]
    }
   ],
   "source": [
    "import pickle\n",
    "\n",
    "pkl_path = \"/root/dev/ProciGen/outputs/params/test-stool/00000_params.pkl\"\n",
    "\n",
    "# Load and inspect the contents\n",
    "with open(pkl_path, 'rb') as f:\n",
    "    data = pickle.load(f)\n",
    "\n",
    "# Print the keys\n",
    "print(\"📦 Keys in the pickle file:\")\n",
    "for key in data.keys():\n",
    "    print(f\"  - {key} ({type(data[key])})\")\n",
    "\n",
    "# Optionally print summary of contents\n",
    "print(\"\\n🔍 Summary of values:\")\n",
    "for key, value in data.items():\n",
    "    if isinstance(value, (list, tuple)):\n",
    "        print(f\"{key}: list/tuple of length {len(value)}\")\n",
    "    elif isinstance(value, dict):\n",
    "        print(f\"{key}: dict with keys: {list(value.keys())}\")\n",
    "    elif hasattr(value, 'shape'):\n",
    "        print(f\"{key}: shape {value.shape}\")\n",
    "    else:\n",
    "        print(f\"{key}: {value}\")\n"
   ]
  },
  {
   "cell_type": "code",
   "execution_count": null,
   "metadata": {},
   "outputs": [],
   "source": []
  }
 ],
 "metadata": {
  "kernelspec": {
   "display_name": "procigen",
   "language": "python",
   "name": "python3"
  },
  "language_info": {
   "codemirror_mode": {
    "name": "ipython",
    "version": 3
   },
   "file_extension": ".py",
   "mimetype": "text/x-python",
   "name": "python",
   "nbconvert_exporter": "python",
   "pygments_lexer": "ipython3",
   "version": "3.10.18"
  }
 },
 "nbformat": 4,
 "nbformat_minor": 2
}
